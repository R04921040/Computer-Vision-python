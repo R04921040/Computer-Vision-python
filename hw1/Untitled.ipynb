{
 "cells": [
  {
   "cell_type": "code",
   "execution_count": null,
   "metadata": {},
   "outputs": [
    {
     "name": "stdout",
     "output_type": "stream",
     "text": [
      "<class 'numpy.ndarray'>\n",
      "(512, 512, 3)\n"
     ]
    }
   ],
   "source": [
    "import numpy as np\n",
    "import cv2\n",
    "\n",
    "lena = cv2.imread('lena.bmp')\n",
    "\n",
    "print(type(lena))\n",
    "print(lena.shape)\n",
    "\n",
    "# 顯示圖片\n",
    "#cv2.imshow('lena', lena)\n",
    "\n",
    "#cv2.imwrite('output.jpg', img)\n",
    "# 按下任意鍵則關閉所有視窗\n",
    "#cv2.waitKey(0)\n",
    "#cv2.destroyWindow('lena')\n",
    "#cv2.destroyAllWindows()\n",
    "\n",
    "x , y , channels = lena.shape\n",
    "\n",
    "upside_down = np.zeros(lena.shape)\n",
    "right_side_left = np.zeros(lena.shape)\n",
    "diagonally_mirrored = np.zeros(lena.shape)\n",
    "\n",
    "\n",
    "for i in range(x):\n",
    "    for j in range(y):\n",
    "        upside_down[i , j] = lena[i , y-1 - j].astype(int)\n",
    "        right_side_left[i , j] = lena[x-1 - i , j].astype(int)\n",
    "        diagonally_mirrored[i , j] = lena[x-1 - i , y-1 - j].astype(int)\n",
    "\n",
    "\n",
    "cv2.imshow('upside_down', upside_down)\n",
    "cv2.imshow('right_side_left', right_side_left)\n",
    "cv2.imshow('diagonally_mirrored', diagonally_mirrored)\n",
    "\n",
    "cv2.waitKey(0)\n",
    "cv2.destroyAllWindows()\n",
    "\n",
    "#cv2.imwrite('upside_down.jpg', upside_down)"
   ]
  },
  {
   "cell_type": "code",
   "execution_count": 9,
   "metadata": {},
   "outputs": [],
   "source": [
    "cv2.imshow('upside_down', upside_down)"
   ]
  },
  {
   "cell_type": "code",
   "execution_count": null,
   "metadata": {},
   "outputs": [],
   "source": []
  }
 ],
 "metadata": {
  "kernelspec": {
   "display_name": "Python 3",
   "language": "python",
   "name": "python3"
  },
  "language_info": {
   "codemirror_mode": {
    "name": "ipython",
    "version": 3
   },
   "file_extension": ".py",
   "mimetype": "text/x-python",
   "name": "python",
   "nbconvert_exporter": "python",
   "pygments_lexer": "ipython3",
   "version": "3.6.4"
  }
 },
 "nbformat": 4,
 "nbformat_minor": 2
}
